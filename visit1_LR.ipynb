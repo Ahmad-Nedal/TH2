{
  "nbformat": 4,
  "nbformat_minor": 0,
  "metadata": {
    "colab": {
      "name": "last LR.ipynb",
      "provenance": [],
      "collapsed_sections": [],
      "include_colab_link": true
    },
    "kernelspec": {
      "name": "python3",
      "display_name": "Python 3"
    },
    "language_info": {
      "name": "python"
    }
  },
  "cells": [
    {
      "cell_type": "markdown",
      "metadata": {
        "id": "view-in-github",
        "colab_type": "text"
      },
      "source": [
        "<a href=\"https://colab.research.google.com/github/Ahmad-Nedal/TH2/blob/main/visit1_LR.ipynb\" target=\"_parent\"><img src=\"https://colab.research.google.com/assets/colab-badge.svg\" alt=\"Open In Colab\"/></a>"
      ]
    },
    {
      "cell_type": "code",
      "source": [
        "# STRATIFIES K-FOLD CROSS VALIDATION\n",
        "%matplotlib inline\n",
        "import numpy as num\n",
        "import pandas as pd\n",
        "from google.colab import drive\n",
        "from sklearn.impute import SimpleImputer\n",
        "from sklearn.preprocessing import StandardScaler\n",
        "from sklearn.preprocessing import LabelEncoder\n",
        "from sklearn.model_selection import train_test_split\n",
        "from sklearn import metrics\n",
        "from sklearn.model_selection import cross_val_score\n",
        "from sklearn import svm\n",
        "from sklearn.linear_model import LogisticRegression\n",
        "from sklearn.linear_model import LogisticRegressionCV\n",
        "# Import Required Modules.\n",
        "from statistics import mean, stdev\n",
        "from sklearn import preprocessing\n",
        "from sklearn.model_selection import StratifiedKFold\n",
        "from sklearn import linear_model\n",
        "from sklearn import datasets\n",
        "import pandas as pd\n",
        "from google.colab import drive\n",
        "from sklearn.metrics import balanced_accuracy_score\n",
        "from sklearn.ensemble import RandomForestClassifier\n",
        "from sklearn.model_selection import KFold, cross_val_score\n",
        "from sklearn.metrics import confusion_matrix\n",
        "import matplotlib.pyplot as plot"
      ],
      "metadata": {
        "id": "Go9v0GnnaAqo"
      },
      "execution_count": 1,
      "outputs": []
    },
    {
      "cell_type": "code",
      "source": [
        "# FEATCHING FEATURES AND TARGET VARIABLES IN ARRAY FORMAT.\n",
        "#drive.mount('/content/drive')\n",
        "#df = pd.read_csv(\"/content/drive/MyDrive/thesis2/606_Full.csv\", index_col=0, parse_dates=True)  \n",
        "#df = pd.read_csv('https://raw.githubusercontent.com/Ahmad-Nedal/TH2/main/DTI-606.csv')\n",
        "df = pd.read_csv('https://raw.githubusercontent.com/Ahmad-Nedal/TH2/main/243_first_visit_Full.csv')\n",
        "df.head()"
      ],
      "metadata": {
        "id": "J8SYs2VJaG6D",
        "outputId": "9f813558-bf64-4f5d-e9b9-2baeedfb63fa",
        "colab": {
          "base_uri": "https://localhost:8080/",
          "height": 317
        }
      },
      "execution_count": 2,
      "outputs": [
        {
          "output_type": "execute_result",
          "data": {
            "text/plain": [
              "   Unnamed: 0   RID    EXAMDATE  Diagnosis        AGE  PTGENDER  \\\n",
              "0           2   123   3/21/2013          2  80.401092         1   \n",
              "1           3   778    9/4/2013          3  79.367217         1   \n",
              "2           4   908    1/6/2014          2  70.121308         2   \n",
              "3           5   934  10/22/2013          1  76.978142         2   \n",
              "4           6  2007    7/6/2010          2  83.400000         2   \n",
              "\n",
              "   FA_CST_L_DTIROI_04_30_14  FA_CST_R_DTIROI_04_30_14  \\\n",
              "0                  0.355740                  0.336685   \n",
              "1                  0.270231                  0.354589   \n",
              "2                  0.376158                  0.390559   \n",
              "3                  0.392770                  0.408736   \n",
              "4                  0.380674                  0.374772   \n",
              "\n",
              "   FA_ICP_L_DTIROI_04_30_14  FA_ICP_R_DTIROI_04_30_14  ...  \\\n",
              "0                  0.271300                  0.303025  ...   \n",
              "1                  0.289374                  0.296236  ...   \n",
              "2                  0.334983                  0.329103  ...   \n",
              "3                  0.313411                  0.298232  ...   \n",
              "4                  0.343332                  0.357956  ...   \n",
              "\n",
              "   AD_SCC_R_DTIROI_04_30_14  AD_RLIC_L_DTIROI_04_30_14  \\\n",
              "0                  0.001780                   0.001257   \n",
              "1                  0.001794                   0.001301   \n",
              "2                  0.001718                   0.001276   \n",
              "3                  0.001601                   0.001297   \n",
              "4                  0.002028                   0.001394   \n",
              "\n",
              "   AD_RLIC_R_DTIROI_04_30_14  AD_TAP_L_DTIROI_04_30_14  \\\n",
              "0                   0.001170                  0.002719   \n",
              "1                   0.001313                  0.002684   \n",
              "2                   0.001262                  0.002667   \n",
              "3                   0.001215                  0.002041   \n",
              "4                   0.001472                  0.002873   \n",
              "\n",
              "   AD_TAP_R_DTIROI_04_30_14  AD_SUMGCC_DTIROI_04_30_14  \\\n",
              "0                  0.002392                   0.001706   \n",
              "1                  0.002336                   0.001798   \n",
              "2                  0.002125                   0.001765   \n",
              "3                  0.002022                   0.001667   \n",
              "4                  0.002909                   0.001804   \n",
              "\n",
              "   AD_SUMBCC_DTIROI_04_30_14  AD_SUMSCC_DTIROI_04_30_14  \\\n",
              "0                   0.002025                   0.001841   \n",
              "1                   0.002145                   0.001938   \n",
              "2                   0.002238                   0.001937   \n",
              "3                   0.001874                   0.001617   \n",
              "4                   0.002211                   0.002130   \n",
              "\n",
              "   AD_SUMCC_DTIROI_04_30_14  AD_SUMFX_DTIROI_04_30_14  \n",
              "0                  0.001873                  0.002873  \n",
              "1                  0.001985                  0.003776  \n",
              "2                  0.002022                  0.002988  \n",
              "3                  0.001717                  0.002768  \n",
              "4                  0.002086                  0.003499  \n",
              "\n",
              "[5 rows x 234 columns]"
            ],
            "text/html": [
              "\n",
              "  <div id=\"df-10f7643d-2d93-48cc-ba1c-833140ef3dac\">\n",
              "    <div class=\"colab-df-container\">\n",
              "      <div>\n",
              "<style scoped>\n",
              "    .dataframe tbody tr th:only-of-type {\n",
              "        vertical-align: middle;\n",
              "    }\n",
              "\n",
              "    .dataframe tbody tr th {\n",
              "        vertical-align: top;\n",
              "    }\n",
              "\n",
              "    .dataframe thead th {\n",
              "        text-align: right;\n",
              "    }\n",
              "</style>\n",
              "<table border=\"1\" class=\"dataframe\">\n",
              "  <thead>\n",
              "    <tr style=\"text-align: right;\">\n",
              "      <th></th>\n",
              "      <th>Unnamed: 0</th>\n",
              "      <th>RID</th>\n",
              "      <th>EXAMDATE</th>\n",
              "      <th>Diagnosis</th>\n",
              "      <th>AGE</th>\n",
              "      <th>PTGENDER</th>\n",
              "      <th>FA_CST_L_DTIROI_04_30_14</th>\n",
              "      <th>FA_CST_R_DTIROI_04_30_14</th>\n",
              "      <th>FA_ICP_L_DTIROI_04_30_14</th>\n",
              "      <th>FA_ICP_R_DTIROI_04_30_14</th>\n",
              "      <th>...</th>\n",
              "      <th>AD_SCC_R_DTIROI_04_30_14</th>\n",
              "      <th>AD_RLIC_L_DTIROI_04_30_14</th>\n",
              "      <th>AD_RLIC_R_DTIROI_04_30_14</th>\n",
              "      <th>AD_TAP_L_DTIROI_04_30_14</th>\n",
              "      <th>AD_TAP_R_DTIROI_04_30_14</th>\n",
              "      <th>AD_SUMGCC_DTIROI_04_30_14</th>\n",
              "      <th>AD_SUMBCC_DTIROI_04_30_14</th>\n",
              "      <th>AD_SUMSCC_DTIROI_04_30_14</th>\n",
              "      <th>AD_SUMCC_DTIROI_04_30_14</th>\n",
              "      <th>AD_SUMFX_DTIROI_04_30_14</th>\n",
              "    </tr>\n",
              "  </thead>\n",
              "  <tbody>\n",
              "    <tr>\n",
              "      <th>0</th>\n",
              "      <td>2</td>\n",
              "      <td>123</td>\n",
              "      <td>3/21/2013</td>\n",
              "      <td>2</td>\n",
              "      <td>80.401092</td>\n",
              "      <td>1</td>\n",
              "      <td>0.355740</td>\n",
              "      <td>0.336685</td>\n",
              "      <td>0.271300</td>\n",
              "      <td>0.303025</td>\n",
              "      <td>...</td>\n",
              "      <td>0.001780</td>\n",
              "      <td>0.001257</td>\n",
              "      <td>0.001170</td>\n",
              "      <td>0.002719</td>\n",
              "      <td>0.002392</td>\n",
              "      <td>0.001706</td>\n",
              "      <td>0.002025</td>\n",
              "      <td>0.001841</td>\n",
              "      <td>0.001873</td>\n",
              "      <td>0.002873</td>\n",
              "    </tr>\n",
              "    <tr>\n",
              "      <th>1</th>\n",
              "      <td>3</td>\n",
              "      <td>778</td>\n",
              "      <td>9/4/2013</td>\n",
              "      <td>3</td>\n",
              "      <td>79.367217</td>\n",
              "      <td>1</td>\n",
              "      <td>0.270231</td>\n",
              "      <td>0.354589</td>\n",
              "      <td>0.289374</td>\n",
              "      <td>0.296236</td>\n",
              "      <td>...</td>\n",
              "      <td>0.001794</td>\n",
              "      <td>0.001301</td>\n",
              "      <td>0.001313</td>\n",
              "      <td>0.002684</td>\n",
              "      <td>0.002336</td>\n",
              "      <td>0.001798</td>\n",
              "      <td>0.002145</td>\n",
              "      <td>0.001938</td>\n",
              "      <td>0.001985</td>\n",
              "      <td>0.003776</td>\n",
              "    </tr>\n",
              "    <tr>\n",
              "      <th>2</th>\n",
              "      <td>4</td>\n",
              "      <td>908</td>\n",
              "      <td>1/6/2014</td>\n",
              "      <td>2</td>\n",
              "      <td>70.121308</td>\n",
              "      <td>2</td>\n",
              "      <td>0.376158</td>\n",
              "      <td>0.390559</td>\n",
              "      <td>0.334983</td>\n",
              "      <td>0.329103</td>\n",
              "      <td>...</td>\n",
              "      <td>0.001718</td>\n",
              "      <td>0.001276</td>\n",
              "      <td>0.001262</td>\n",
              "      <td>0.002667</td>\n",
              "      <td>0.002125</td>\n",
              "      <td>0.001765</td>\n",
              "      <td>0.002238</td>\n",
              "      <td>0.001937</td>\n",
              "      <td>0.002022</td>\n",
              "      <td>0.002988</td>\n",
              "    </tr>\n",
              "    <tr>\n",
              "      <th>3</th>\n",
              "      <td>5</td>\n",
              "      <td>934</td>\n",
              "      <td>10/22/2013</td>\n",
              "      <td>1</td>\n",
              "      <td>76.978142</td>\n",
              "      <td>2</td>\n",
              "      <td>0.392770</td>\n",
              "      <td>0.408736</td>\n",
              "      <td>0.313411</td>\n",
              "      <td>0.298232</td>\n",
              "      <td>...</td>\n",
              "      <td>0.001601</td>\n",
              "      <td>0.001297</td>\n",
              "      <td>0.001215</td>\n",
              "      <td>0.002041</td>\n",
              "      <td>0.002022</td>\n",
              "      <td>0.001667</td>\n",
              "      <td>0.001874</td>\n",
              "      <td>0.001617</td>\n",
              "      <td>0.001717</td>\n",
              "      <td>0.002768</td>\n",
              "    </tr>\n",
              "    <tr>\n",
              "      <th>4</th>\n",
              "      <td>6</td>\n",
              "      <td>2007</td>\n",
              "      <td>7/6/2010</td>\n",
              "      <td>2</td>\n",
              "      <td>83.400000</td>\n",
              "      <td>2</td>\n",
              "      <td>0.380674</td>\n",
              "      <td>0.374772</td>\n",
              "      <td>0.343332</td>\n",
              "      <td>0.357956</td>\n",
              "      <td>...</td>\n",
              "      <td>0.002028</td>\n",
              "      <td>0.001394</td>\n",
              "      <td>0.001472</td>\n",
              "      <td>0.002873</td>\n",
              "      <td>0.002909</td>\n",
              "      <td>0.001804</td>\n",
              "      <td>0.002211</td>\n",
              "      <td>0.002130</td>\n",
              "      <td>0.002086</td>\n",
              "      <td>0.003499</td>\n",
              "    </tr>\n",
              "  </tbody>\n",
              "</table>\n",
              "<p>5 rows × 234 columns</p>\n",
              "</div>\n",
              "      <button class=\"colab-df-convert\" onclick=\"convertToInteractive('df-10f7643d-2d93-48cc-ba1c-833140ef3dac')\"\n",
              "              title=\"Convert this dataframe to an interactive table.\"\n",
              "              style=\"display:none;\">\n",
              "        \n",
              "  <svg xmlns=\"http://www.w3.org/2000/svg\" height=\"24px\"viewBox=\"0 0 24 24\"\n",
              "       width=\"24px\">\n",
              "    <path d=\"M0 0h24v24H0V0z\" fill=\"none\"/>\n",
              "    <path d=\"M18.56 5.44l.94 2.06.94-2.06 2.06-.94-2.06-.94-.94-2.06-.94 2.06-2.06.94zm-11 1L8.5 8.5l.94-2.06 2.06-.94-2.06-.94L8.5 2.5l-.94 2.06-2.06.94zm10 10l.94 2.06.94-2.06 2.06-.94-2.06-.94-.94-2.06-.94 2.06-2.06.94z\"/><path d=\"M17.41 7.96l-1.37-1.37c-.4-.4-.92-.59-1.43-.59-.52 0-1.04.2-1.43.59L10.3 9.45l-7.72 7.72c-.78.78-.78 2.05 0 2.83L4 21.41c.39.39.9.59 1.41.59.51 0 1.02-.2 1.41-.59l7.78-7.78 2.81-2.81c.8-.78.8-2.07 0-2.86zM5.41 20L4 18.59l7.72-7.72 1.47 1.35L5.41 20z\"/>\n",
              "  </svg>\n",
              "      </button>\n",
              "      \n",
              "  <style>\n",
              "    .colab-df-container {\n",
              "      display:flex;\n",
              "      flex-wrap:wrap;\n",
              "      gap: 12px;\n",
              "    }\n",
              "\n",
              "    .colab-df-convert {\n",
              "      background-color: #E8F0FE;\n",
              "      border: none;\n",
              "      border-radius: 50%;\n",
              "      cursor: pointer;\n",
              "      display: none;\n",
              "      fill: #1967D2;\n",
              "      height: 32px;\n",
              "      padding: 0 0 0 0;\n",
              "      width: 32px;\n",
              "    }\n",
              "\n",
              "    .colab-df-convert:hover {\n",
              "      background-color: #E2EBFA;\n",
              "      box-shadow: 0px 1px 2px rgba(60, 64, 67, 0.3), 0px 1px 3px 1px rgba(60, 64, 67, 0.15);\n",
              "      fill: #174EA6;\n",
              "    }\n",
              "\n",
              "    [theme=dark] .colab-df-convert {\n",
              "      background-color: #3B4455;\n",
              "      fill: #D2E3FC;\n",
              "    }\n",
              "\n",
              "    [theme=dark] .colab-df-convert:hover {\n",
              "      background-color: #434B5C;\n",
              "      box-shadow: 0px 1px 3px 1px rgba(0, 0, 0, 0.15);\n",
              "      filter: drop-shadow(0px 1px 2px rgba(0, 0, 0, 0.3));\n",
              "      fill: #FFFFFF;\n",
              "    }\n",
              "  </style>\n",
              "\n",
              "      <script>\n",
              "        const buttonEl =\n",
              "          document.querySelector('#df-10f7643d-2d93-48cc-ba1c-833140ef3dac button.colab-df-convert');\n",
              "        buttonEl.style.display =\n",
              "          google.colab.kernel.accessAllowed ? 'block' : 'none';\n",
              "\n",
              "        async function convertToInteractive(key) {\n",
              "          const element = document.querySelector('#df-10f7643d-2d93-48cc-ba1c-833140ef3dac');\n",
              "          const dataTable =\n",
              "            await google.colab.kernel.invokeFunction('convertToInteractive',\n",
              "                                                     [key], {});\n",
              "          if (!dataTable) return;\n",
              "\n",
              "          const docLinkHtml = 'Like what you see? Visit the ' +\n",
              "            '<a target=\"_blank\" href=https://colab.research.google.com/notebooks/data_table.ipynb>data table notebook</a>'\n",
              "            + ' to learn more about interactive tables.';\n",
              "          element.innerHTML = '';\n",
              "          dataTable['output_type'] = 'display_data';\n",
              "          await google.colab.output.renderOutput(dataTable, element);\n",
              "          const docLink = document.createElement('div');\n",
              "          docLink.innerHTML = docLinkHtml;\n",
              "          element.appendChild(docLink);\n",
              "        }\n",
              "      </script>\n",
              "    </div>\n",
              "  </div>\n",
              "  "
            ]
          },
          "metadata": {},
          "execution_count": 2
        }
      ]
    },
    {
      "cell_type": "code",
      "source": [
        "x = df.iloc[:, 4:].values\n",
        "y = df.iloc[:, 3].values"
      ],
      "metadata": {
        "id": "Ahy-Ic96xu2m"
      },
      "execution_count": 3,
      "outputs": []
    },
    {
      "cell_type": "code",
      "source": [
        "x[0][0] , y[0]"
      ],
      "metadata": {
        "id": "SKzHIESKTjn0",
        "outputId": "dc20ab2d-ad18-45f7-e53e-5b2760467167",
        "colab": {
          "base_uri": "https://localhost:8080/"
        }
      },
      "execution_count": 4,
      "outputs": [
        {
          "output_type": "execute_result",
          "data": {
            "text/plain": [
              "(80.40109167, 2)"
            ]
          },
          "metadata": {},
          "execution_count": 4
        }
      ]
    },
    {
      "cell_type": "code",
      "source": [
        "labels, counts = num.unique(y, return_counts=True)\n",
        "print(labels, counts)"
      ],
      "metadata": {
        "colab": {
          "base_uri": "https://localhost:8080/"
        },
        "id": "vXYN5l7PDCPr",
        "outputId": "66114d5b-f015-4ba3-aac5-f2ec89ae09cb"
      },
      "execution_count": 5,
      "outputs": [
        {
          "output_type": "stream",
          "name": "stdout",
          "text": [
            "[1 2 3] [ 84 113  46]\n"
          ]
        }
      ]
    },
    {
      "cell_type": "code",
      "source": [
        "#Encoding Categorical Data\n",
        "labelencoder = LabelEncoder()\n",
        "y = labelencoder.fit_transform(y)"
      ],
      "metadata": {
        "id": "GgImJ7M2u3DI"
      },
      "execution_count": 6,
      "outputs": []
    },
    {
      "cell_type": "code",
      "source": [
        "# Create classifier object.\n",
        "lr = LogisticRegressionCV(cv=None, random_state=0, solver= 'liblinear', class_weight= 'balanced',)"
      ],
      "metadata": {
        "id": "n3Gpe3f6akAd"
      },
      "execution_count": 7,
      "outputs": []
    },
    {
      "cell_type": "code",
      "source": [
        "# Create StratifiedKFold object.\n",
        "\n",
        "skf = StratifiedKFold(n_splits=5, shuffle=True, random_state=2)\n",
        "Imputer = SimpleImputer(missing_values=num.nan, strategy='mean')\n",
        "StSc = StandardScaler()\n",
        "\n",
        "lst_accu_stratified = []\n",
        "predicted_targets = num.array([])\n",
        "actual_targets = num.array([])\n",
        "\n",
        "for train_index, test_index in skf.split(x, y):\n",
        "\tx_train_fold, x_test_fold = x[train_index], x[test_index]\n",
        "\ty_train_fold, y_test_fold = y[train_index], y[test_index]\n",
        "\n",
        "\tx_train_imputed = Imputer.fit_transform(x_train_fold)\n",
        "\tx_train_scaled = StSc.fit_transform(x_train_imputed)\n",
        " \n",
        "\t#x_test_imputed = SimpleImputer(missing_values=num.nan, strategy='mean').fit(x_test_fold).transform(x_test_fold)\n",
        "\t#x_test_scaled = StandardScaler().fit(x_test_imputed).transform(x_test_imputed)\n",
        "\n",
        "\tx_test_imputed = Imputer.transform(x_test_fold)\n",
        "\tx_test_scaled = StSc.transform(x_test_imputed)\n",
        " \t##\n",
        "\tclassifiers=lr.fit(x_train_scaled, y_train_fold)\n",
        "\tpredicted_labels = classifiers.predict(x_test_scaled)\n",
        "\tpredicted_targets = num.append(predicted_targets, predicted_labels)\n",
        "\tactual_targets = num.append(actual_targets, y_test_fold)\n",
        " \n",
        "\t#balanced_accuracy_score(y_true, y_pred)\n",
        "\tlst_accu_stratified.append(balanced_accuracy_score(predicted_targets, actual_targets))"
      ],
      "metadata": {
        "id": "GmFIb9q1apye"
      },
      "execution_count": 8,
      "outputs": []
    },
    {
      "cell_type": "code",
      "execution_count": 9,
      "metadata": {
        "colab": {
          "base_uri": "https://localhost:8080/"
        },
        "id": "GliwnqN6F83L",
        "outputId": "b685a80a-5dc2-46c7-a08d-e1cea00eab93"
      },
      "outputs": [
        {
          "output_type": "stream",
          "name": "stdout",
          "text": [
            "List of possible accuracy: [0.38650793650793647, 0.38591289236450527, 0.45065101139269936, 0.47158407348125825, 0.48505180519421237]\n",
            "\n",
            "Maximum Accuracy That can be obtained from this model is: 48.50518051942124 %\n",
            "\n",
            "Minimum Accuracy: 38.59128923645053 %\n",
            "\n",
            "Overall Accuracy: 43.594154378812235 %\n",
            "\n",
            "Standard Deviation is: 0.047024258706299935\n"
          ]
        }
      ],
      "source": [
        "#balanced_accuracy_score(y_true, y_pred)\n",
        "\n",
        "# Print the output.\n",
        "print('List of possible accuracy:', lst_accu_stratified)\n",
        "print('\\nMaximum Accuracy That can be obtained from this model is:',\n",
        "\tmax(lst_accu_stratified)*100, '%')\n",
        "print('\\nMinimum Accuracy:',\n",
        "\tmin(lst_accu_stratified)*100, '%')\n",
        "print('\\nOverall Accuracy:',\n",
        "\tmean(lst_accu_stratified)*100, '%')\n",
        "print('\\nStandard Deviation is:', stdev(lst_accu_stratified))\n"
      ]
    },
    {
      "cell_type": "code",
      "source": [
        "classnames = num.array(['CN', 'MCI', 'AD'], dtype='<U10')\n",
        "def plot_confusion_matrix(predicted_labels_list, y_test_list):\n",
        "    cnf_matrix = confusion_matrix(y_test_list, predicted_labels_list)\n",
        "    num.set_printoptions(precision=2)\n",
        "\n",
        "   \n",
        "    plot.figure()\n",
        "    generate_confusion_matrix(cnf_matrix, classes=classnames, normalize=True, title='Normalized confusion matrix')\n",
        "    plot.show()\n",
        "def generate_confusion_matrix(cnf_matrix, classes, normalize=False, title='Confusion matrix'):\n",
        "    if normalize:\n",
        "        cnf_matrix = cnf_matrix.astype('float') / cnf_matrix.sum(axis=1)[:, num.newaxis]\n",
        "        print(\"Normalized confusion matrix\")\n",
        "    else:\n",
        "        print('Confusion matrix, without normalization')\n",
        "\n",
        "    plot.imshow(cnf_matrix, interpolation='nearest', cmap=plot.get_cmap('Blues'))\n",
        "    plot.title(title)\n",
        "    plot.colorbar()\n",
        "\n",
        "    tick_marks = num.arange(len(classes))\n",
        "    plot.xticks(tick_marks, classes, rotation=45)\n",
        "    plot.yticks(tick_marks, classes)\n",
        "\n",
        "    fmt = '.2f' if normalize else 'd'\n",
        "    thresh = cnf_matrix.max() / 2.\n",
        "\n",
        "\n",
        "    for i in range (cnf_matrix.shape[0]):\n",
        "        for j in range (cnf_matrix.shape[1]):\n",
        "          plot.text(j, i, format(cnf_matrix[i, j], fmt), horizontalalignment=\"center\",\n",
        "                    color=\"black\" if cnf_matrix[i, j] > thresh else \"blue\")\n",
        "          plot.tight_layout()\n",
        "          plot.ylabel('True label')\n",
        "          plot.xlabel('Predicted label')\n",
        "\n",
        "    return cnf_matrix\n",
        "plot_confusion_matrix(predicted_targets, actual_targets)"
      ],
      "metadata": {
        "colab": {
          "base_uri": "https://localhost:8080/",
          "height": 314
        },
        "id": "ILh1TuZZ7lsS",
        "outputId": "b77913cd-459b-4391-90ad-b7926c2c0c3e"
      },
      "execution_count": 10,
      "outputs": [
        {
          "output_type": "stream",
          "name": "stdout",
          "text": [
            "Normalized confusion matrix\n"
          ]
        },
        {
          "output_type": "display_data",
          "data": {
            "text/plain": [
              "<Figure size 432x288 with 2 Axes>"
            ],
            "image/png": "[encoded data removed]"
          },
          "metadata": {
            "needs_background": "light"
          }
        }
      ]
    }
  ]
}