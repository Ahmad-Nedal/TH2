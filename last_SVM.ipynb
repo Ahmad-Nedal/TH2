{
  "nbformat": 4,
  "nbformat_minor": 0,
  "metadata": {
    "colab": {
      "name": "last SVM.ipynb",
      "provenance": [],
      "collapsed_sections": [],
      "include_colab_link": true
    },
    "kernelspec": {
      "name": "python3",
      "display_name": "Python 3"
    },
    "language_info": {
      "name": "python"
    }
  },
  "cells": [
    {
      "cell_type": "markdown",
      "metadata": {
        "id": "view-in-github",
        "colab_type": "text"
      },
      "source": [
        "<a href=\"https://colab.research.google.com/github/Ahmad-Nedal/TH2/blob/main/last_SVM.ipynb\" target=\"_parent\"><img src=\"https://colab.research.google.com/assets/colab-badge.svg\" alt=\"Open In Colab\"/></a>"
      ]
    },
    {
      "cell_type": "code",
      "source": [
        "# STRATIFIES K-FOLD CROSS VALIDATION\n",
        "%matplotlib inline\n",
        "import numpy as num\n",
        "import pandas as pd\n",
        "from google.colab import drive\n",
        "from sklearn.impute import SimpleImputer\n",
        "from sklearn.preprocessing import StandardScaler\n",
        "from sklearn.preprocessing import LabelEncoder\n",
        "from sklearn.model_selection import train_test_split\n",
        "from sklearn import metrics\n",
        "from sklearn.model_selection import cross_val_score\n",
        "from sklearn import svm\n",
        "from sklearn.linear_model import LogisticRegression\n",
        "from sklearn.linear_model import LogisticRegressionCV\n",
        "# Import Required Modules.\n",
        "from statistics import mean, stdev\n",
        "from sklearn import preprocessing\n",
        "from sklearn.model_selection import StratifiedKFold\n",
        "from sklearn import linear_model\n",
        "from sklearn import datasets\n",
        "import pandas as pd\n",
        "from google.colab import drive\n",
        "from sklearn.metrics import balanced_accuracy_score\n",
        "from sklearn.ensemble import RandomForestClassifier\n",
        "from sklearn.model_selection import KFold, cross_val_score\n",
        "from sklearn.metrics import confusion_matrix\n",
        "import matplotlib.pyplot as plot"
      ],
      "metadata": {
        "id": "Go9v0GnnaAqo"
      },
      "execution_count": 1,
      "outputs": []
    },
    {
      "cell_type": "code",
      "source": [
        "# FEATCHING FEATURES AND TARGET VARIABLES IN ARRAY FORMAT.\n",
        "#drive.mount('/content/drive')\n",
        "#df = pd.read_csv(\"/content/drive/MyDrive/thesis2/606_Full.csv\", index_col=0, parse_dates=True)  \n",
        "df = pd.read_csv('https://raw.githubusercontent.com/Ahmad-Nedal/TH2/main/DTI-606.csv')\n",
        "x = df.iloc[:, 4:].values\n",
        "y = df.iloc[:, 3].values"
      ],
      "metadata": {
        "id": "bFFp8MemJszW"
      },
      "execution_count": 2,
      "outputs": []
    },
    {
      "cell_type": "code",
      "source": [
        "labels, counts = num.unique(y, return_counts=True)\n",
        "print(labels, counts)"
      ],
      "metadata": {
        "colab": {
          "base_uri": "https://localhost:8080/"
        },
        "id": "vXYN5l7PDCPr",
        "outputId": "fd6c8fd7-8f46-482d-e3db-8e93e26e8ca2"
      },
      "execution_count": 3,
      "outputs": [
        {
          "output_type": "stream",
          "name": "stdout",
          "text": [
            "[1 2 3] [181 296 129]\n"
          ]
        }
      ]
    },
    {
      "cell_type": "code",
      "source": [
        "#Encoding Categorical Data\n",
        "labelencoder = LabelEncoder()\n",
        "y = labelencoder.fit_transform(y)"
      ],
      "metadata": {
        "id": "GgImJ7M2u3DI"
      },
      "execution_count": 4,
      "outputs": []
    },
    {
      "cell_type": "code",
      "source": [
        "\n",
        "# Create classifier object.\n",
        "sv = svm.SVC(class_weight= 'balanced')\n",
        "#lr = LogisticRegressionCV(cv=None, random_state=0, solver= 'liblinear', class_weight= 'balanced',)"
      ],
      "metadata": {
        "id": "n3Gpe3f6akAd"
      },
      "execution_count": 5,
      "outputs": []
    },
    {
      "cell_type": "code",
      "source": [
        "# Create StratifiedKFold object.\n",
        "\n",
        "skf = StratifiedKFold(n_splits=5, shuffle=True, random_state=2)\n",
        "Imputer = SimpleImputer(missing_values=num.nan, strategy='mean')\n",
        "StSc = StandardScaler()\n",
        "\n",
        "lst_accu_stratified = []\n",
        "predicted_targets = num.array([])\n",
        "actual_targets = num.array([])\n",
        "\n",
        "for train_index, test_index in skf.split(x, y):\n",
        "\tx_train_fold, x_test_fold = x[train_index], x[test_index]\n",
        "\ty_train_fold, y_test_fold = y[train_index], y[test_index]\n",
        "\n",
        "\tx_train_imputed = Imputer.fit_transform(x_train_fold)\n",
        "\tx_train_scaled = StSc.fit_transform(x_train_imputed)\n",
        "\n",
        "\tx_test_imputed = Imputer.transform(x_test_fold)\n",
        "\tx_test_scaled = StSc.transform(x_test_imputed)\n",
        " \t##\n",
        "\tclassifiers=sv.fit(x_train_scaled, y_train_fold)\n",
        "\tpredicted_labels = classifiers.predict(x_test_scaled)\n",
        "\tpredicted_targets = num.append(predicted_targets, predicted_labels)\n",
        "\tactual_targets = num.append(actual_targets, y_test_fold)\n",
        " \n",
        "\t#balanced_accuracy_score(y_true, y_pred)\n",
        "\tlst_accu_stratified.append(balanced_accuracy_score(predicted_targets, actual_targets))"
      ],
      "metadata": {
        "id": "Pc4BOeuhK6Me"
      },
      "execution_count": 6,
      "outputs": []
    },
    {
      "cell_type": "code",
      "execution_count": 7,
      "metadata": {
        "colab": {
          "base_uri": "https://localhost:8080/"
        },
        "id": "GliwnqN6F83L",
        "outputId": "56ca1034-ad24-4fee-8baa-05953b2cefb6"
      },
      "outputs": [
        {
          "output_type": "stream",
          "name": "stdout",
          "text": [
            "List of possible accuracy: [0.7084688787681631, 0.723578890245557, 0.7134940601229843, 0.7127568139369598, 0.7001065588394356]\n",
            "\n",
            "Maximum Accuracy That can be obtained from this model is: 72.3578890245557 %\n",
            "\n",
            "Minimum Accuracy: 70.01065588394356 %\n",
            "\n",
            "Overall Accuracy: 71.16810403826199 %\n",
            "\n",
            "Standard Deviation is: 0.008518946030922245\n"
          ]
        }
      ],
      "source": [
        "#balanced_accuracy_score(y_true, y_pred)\n",
        "\n",
        "# Print the output.\n",
        "print('List of possible accuracy:', lst_accu_stratified)\n",
        "print('\\nMaximum Accuracy That can be obtained from this model is:',\n",
        "\tmax(lst_accu_stratified)*100, '%')\n",
        "print('\\nMinimum Accuracy:',\n",
        "\tmin(lst_accu_stratified)*100, '%')\n",
        "print('\\nOverall Accuracy:',\n",
        "\tmean(lst_accu_stratified)*100, '%')\n",
        "print('\\nStandard Deviation is:', stdev(lst_accu_stratified))\n"
      ]
    },
    {
      "cell_type": "code",
      "source": [
        "classnames = num.array(['CN', 'MCI', 'AD'], dtype='<U10')\n",
        "def plot_confusion_matrix(predicted_labels_list, y_test_list):\n",
        "    cnf_matrix = confusion_matrix(y_test_list, predicted_labels_list)\n",
        "    num.set_printoptions(precision=2)\n",
        "\n",
        "   \n",
        "    plot.figure()\n",
        "    generate_confusion_matrix(cnf_matrix, classes=classnames, normalize=True, title='Normalized confusion matrix')\n",
        "    plot.show()\n",
        "def generate_confusion_matrix(cnf_matrix, classes, normalize=False, title='Confusion matrix'):\n",
        "    if normalize:\n",
        "        cnf_matrix = cnf_matrix.astype('float') / cnf_matrix.sum(axis=1)[:, num.newaxis]\n",
        "        print(\"Normalized confusion matrix\")\n",
        "    else:\n",
        "        print('Confusion matrix, without normalization')\n",
        "\n",
        "    plot.imshow(cnf_matrix, interpolation='nearest', cmap=plot.get_cmap('Blues'))\n",
        "    plot.title(title)\n",
        "    plot.colorbar()\n",
        "\n",
        "    tick_marks = num.arange(len(classes))\n",
        "    plot.xticks(tick_marks, classes, rotation=45)\n",
        "    plot.yticks(tick_marks, classes)\n",
        "\n",
        "    fmt = '.2f' if normalize else 'd'\n",
        "    thresh = cnf_matrix.max() / 2.\n",
        "\n",
        "\n",
        "    for i in range (cnf_matrix.shape[0]):\n",
        "        for j in range (cnf_matrix.shape[1]):\n",
        "          plot.text(j, i, format(cnf_matrix[i, j], fmt), horizontalalignment=\"center\",\n",
        "                    color=\"black\" if cnf_matrix[i, j] > thresh else \"blue\")\n",
        "          plot.tight_layout()\n",
        "          plot.ylabel('True label')\n",
        "          plot.xlabel('Predicted label')\n",
        "\n",
        "    return cnf_matrix\n",
        "plot_confusion_matrix(predicted_targets, actual_targets)"
      ],
      "metadata": {
        "colab": {
          "base_uri": "https://localhost:8080/",
          "height": 314
        },
        "id": "ILh1TuZZ7lsS",
        "outputId": "cfd80035-1117-49df-a73a-1bc1ccec111b"
      },
      "execution_count": 8,
      "outputs": [
        {
          "output_type": "stream",
          "name": "stdout",
          "text": [
            "Normalized confusion matrix\n"
          ]
        },
        {
          "output_type": "display_data",
          "data": {
            "text/plain": [
              "<Figure size 432x288 with 2 Axes>"
            ],
            "image/png": "[encoded data removed]"
          },
          "metadata": {
            "needs_background": "light"
          }
        }
      ]
    },
    {
      "cell_type": "code",
      "source": [
        "from sklearn.linear_model import ElasticNetCV\n",
        "regr = ElasticNetCV(cv=5, random_state=0)\n",
        "regr.fit(x, y)\n",
        "ElasticNetCV(cv=5, random_state=0)\n",
        "\n",
        "print(regr.alpha_)\n",
        "print(regr.intercept_)"
      ],
      "metadata": {
        "colab": {
          "base_uri": "https://localhost:8080/"
        },
        "id": "8yRFxicMx35Z",
        "outputId": "0820995d-66ce-4eb0-c13e-235f7db93161"
      },
      "execution_count": 9,
      "outputs": [
        {
          "output_type": "stream",
          "name": "stdout",
          "text": [
            "0.0013164468729625638\n",
            "2.5585732184034087\n"
          ]
        }
      ]
    },
    {
      "cell_type": "code",
      "source": [
        "from sklearn.linear_model import ElasticNetCV\n",
        "regr = ElasticNetCV(cv=5, random_state=0)\n",
        "regr.fit(x, y)\n",
        "ElasticNetCV(cv=5, random_state=0)\n",
        "\n",
        "print(regr.alpha_)\n",
        "print(regr.intercept_)"
      ],
      "metadata": {
        "colab": {
          "base_uri": "https://localhost:8080/"
        },
        "outputId": "b6c5ed07-0cb9-4c1f-fe9c-750d02e0cbb1",
        "id": "ezltjFWfLAhs"
      },
      "execution_count": null,
      "outputs": [
        {
          "output_type": "stream",
          "name": "stdout",
          "text": [
            "0.0013164468729625638\n",
            "2.5585732184034087\n"
          ]
        }
      ]
    },
    {
      "cell_type": "code",
      "source": [
        "from sklearn.linear_model import ElasticNetCV\n",
        "regr = ElasticNetCV(cv=5, random_state=0)\n",
        "regr.fit(x, y)\n",
        "ElasticNetCV(cv=5, random_state=0)\n",
        "\n",
        "print(regr.alpha_)\n",
        "print(regr.intercept_)"
      ],
      "metadata": {
        "colab": {
          "base_uri": "https://localhost:8080/"
        },
        "outputId": "b6c5ed07-0cb9-4c1f-fe9c-750d02e0cbb1",
        "id": "rWeEXMBjLCFS"
      },
      "execution_count": null,
      "outputs": [
        {
          "output_type": "stream",
          "name": "stdout",
          "text": [
            "0.0013164468729625638\n",
            "2.5585732184034087\n"
          ]
        }
      ]
    },
    {
      "cell_type": "code",
      "source": [
        "from sklearn.linear_model import ElasticNetCV\n",
        "regr = ElasticNetCV(cv=5, random_state=0)\n",
        "regr.fit(x, y)\n",
        "ElasticNetCV(cv=5, random_state=0)\n",
        "\n",
        "print(regr.alpha_)\n",
        "print(regr.intercept_)"
      ],
      "metadata": {
        "colab": {
          "base_uri": "https://localhost:8080/"
        },
        "outputId": "b6c5ed07-0cb9-4c1f-fe9c-750d02e0cbb1",
        "id": "ofKxRShqLCeU"
      },
      "execution_count": null,
      "outputs": [
        {
          "output_type": "stream",
          "name": "stdout",
          "text": [
            "0.0013164468729625638\n",
            "2.5585732184034087\n"
          ]
        }
      ]
    }
  ]
}